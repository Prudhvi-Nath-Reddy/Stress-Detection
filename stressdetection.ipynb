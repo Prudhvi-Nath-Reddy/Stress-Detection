{
 "cells": [
  {
   "cell_type": "code",
   "execution_count": 1,
   "id": "288b7379",
   "metadata": {
    "_cell_guid": "b1076dfc-b9ad-4769-8c92-a6c4dae69d19",
    "_uuid": "8f2839f25d086af736a60e9eeb907d3b93b6e0e5",
    "execution": {
     "iopub.execute_input": "2023-11-02T08:24:23.890148Z",
     "iopub.status.busy": "2023-11-02T08:24:23.889284Z",
     "iopub.status.idle": "2023-11-02T08:24:23.896197Z",
     "shell.execute_reply": "2023-11-02T08:24:23.895033Z"
    },
    "papermill": {
     "duration": 0.024778,
     "end_time": "2023-11-02T08:24:23.898783",
     "exception": false,
     "start_time": "2023-11-02T08:24:23.874005",
     "status": "completed"
    },
    "tags": []
   },
   "outputs": [],
   "source": [
    "# # This Python 3 environment comes with many helpful analytics libraries installed\n",
    "# # It is defined by the kaggle/python Docker image: https://github.com/kaggle/docker-python\n",
    "# # For example, here's several helpful packages to load\n",
    "\n",
    "# import numpy as np # linear algebra\n",
    "# import pandas as pd # data processing, CSV file I/O (e.g. pd.read_csv)\n",
    "\n",
    "# # Input data files are available in the read-only \"../input/\" directory\n",
    "# # For example, running this (by clicking run or pressing Shift+Enter) will list all files under the input directory\n",
    "\n",
    "# import os\n",
    "# for dirname, _, filenames in os.walk('/kaggle/input'):\n",
    "#     for filename in filenames:\n",
    "#         print(os.path.join(dirname, filename))\n",
    "\n",
    "# # You can write up to 20GB to the current directory (/kaggle/working/) that gets preserved as output when you create a version using \"Save & Run All\" \n",
    "# # You can also write temporary files to /kaggle/temp/, but they won't be saved outside of the current session"
   ]
  },
  {
   "cell_type": "code",
   "execution_count": 2,
   "id": "eacda0bf",
   "metadata": {
    "execution": {
     "iopub.execute_input": "2023-11-02T08:24:23.928379Z",
     "iopub.status.busy": "2023-11-02T08:24:23.927577Z",
     "iopub.status.idle": "2023-11-02T08:24:26.454571Z",
     "shell.execute_reply": "2023-11-02T08:24:26.453177Z"
    },
    "papermill": {
     "duration": 2.54545,
     "end_time": "2023-11-02T08:24:26.457687",
     "exception": false,
     "start_time": "2023-11-02T08:24:23.912237",
     "status": "completed"
    },
    "tags": []
   },
   "outputs": [],
   "source": [
    "import pandas as pd\n",
    "import numpy as np\n",
    "import matplotlib.pyplot as plt\n",
    "import seaborn as sns\n",
    "# import mne\n",
    "import os\n",
    "from scipy.io import loadmat\n",
    "from scipy.signal import butter, filtfilt\n",
    "import matplotlib.pyplot as plt\n",
    "from mpl_toolkits.mplot3d import Axes3D\n",
    "from tqdm import tqdm"
   ]
  },
  {
   "cell_type": "code",
   "execution_count": 3,
   "id": "29f121f9",
   "metadata": {
    "execution": {
     "iopub.execute_input": "2023-11-02T08:24:26.486633Z",
     "iopub.status.busy": "2023-11-02T08:24:26.484632Z",
     "iopub.status.idle": "2023-11-02T08:25:01.242702Z",
     "shell.execute_reply": "2023-11-02T08:25:01.241144Z"
    },
    "papermill": {
     "duration": 34.775385,
     "end_time": "2023-11-02T08:25:01.245729",
     "exception": false,
     "start_time": "2023-11-02T08:24:26.470344",
     "status": "completed"
    },
    "tags": []
   },
   "outputs": [
    {
     "name": "stdout",
     "output_type": "stream",
     "text": [
      "Collecting antropy\r\n",
      "  Downloading antropy-0.1.6.tar.gz (17 kB)\r\n",
      "  Installing build dependencies ... \u001b[?25l-\b \b\\\b \b|\b \b/\b \bdone\r\n",
      "\u001b[?25h  Getting requirements to build wheel ... \u001b[?25l-\b \bdone\r\n",
      "\u001b[?25h  Preparing metadata (pyproject.toml) ... \u001b[?25l-\b \bdone\r\n",
      "\u001b[?25hRequirement already satisfied: numpy in /opt/conda/lib/python3.10/site-packages (from antropy) (1.23.5)\r\n",
      "Requirement already satisfied: scipy in /opt/conda/lib/python3.10/site-packages (from antropy) (1.11.2)\r\n",
      "Requirement already satisfied: scikit-learn in /opt/conda/lib/python3.10/site-packages (from antropy) (1.2.2)\r\n",
      "Requirement already satisfied: numba>=0.57 in /opt/conda/lib/python3.10/site-packages (from antropy) (0.57.1)\r\n",
      "Collecting stochastic (from antropy)\r\n",
      "  Downloading stochastic-0.7.0-py3-none-any.whl (48 kB)\r\n",
      "\u001b[2K     \u001b[90m━━━━━━━━━━━━━━━━━━━━━━━━━━━━━━━━━━━━━━━━\u001b[0m \u001b[32m48.1/48.1 kB\u001b[0m \u001b[31m3.3 MB/s\u001b[0m eta \u001b[36m0:00:00\u001b[0m\r\n",
      "\u001b[?25hRequirement already satisfied: llvmlite<0.41,>=0.40.0dev0 in /opt/conda/lib/python3.10/site-packages (from numba>=0.57->antropy) (0.40.1)\r\n",
      "Requirement already satisfied: joblib>=1.1.1 in /opt/conda/lib/python3.10/site-packages (from scikit-learn->antropy) (1.3.2)\r\n",
      "Requirement already satisfied: threadpoolctl>=2.0.0 in /opt/conda/lib/python3.10/site-packages (from scikit-learn->antropy) (3.1.0)\r\n",
      "Building wheels for collected packages: antropy\r\n",
      "  Building wheel for antropy (pyproject.toml) ... \u001b[?25l-\b \bdone\r\n",
      "\u001b[?25h  Created wheel for antropy: filename=antropy-0.1.6-py3-none-any.whl size=16879 sha256=63043dd994ffd9e51c2eabdb42b75e6595b45f4e1f270f675c25c213f586385a\r\n",
      "  Stored in directory: /root/.cache/pip/wheels/98/22/06/e91d7bb213c7133d5e2eb34258623e1e19928d5f05e1ee6812\r\n",
      "Successfully built antropy\r\n",
      "Installing collected packages: stochastic, antropy\r\n",
      "Successfully installed antropy-0.1.6 stochastic-0.7.0\r\n"
     ]
    }
   ],
   "source": [
    "!pip install antropy\n",
    "\n"
   ]
  },
  {
   "cell_type": "code",
   "execution_count": 4,
   "id": "a04bff95",
   "metadata": {
    "execution": {
     "iopub.execute_input": "2023-11-02T08:25:01.278308Z",
     "iopub.status.busy": "2023-11-02T08:25:01.277853Z",
     "iopub.status.idle": "2023-11-02T08:25:12.148377Z",
     "shell.execute_reply": "2023-11-02T08:25:12.146125Z"
    },
    "papermill": {
     "duration": 10.891049,
     "end_time": "2023-11-02T08:25:12.151582",
     "exception": false,
     "start_time": "2023-11-02T08:25:01.260533",
     "status": "completed"
    },
    "tags": []
   },
   "outputs": [],
   "source": [
    "import antropy as ant\n",
    "\n",
    "# # Permutation entropy\n",
    "# print(ant.perm_entropy(x, normalize=False))\n",
    "# # Spectral entropy\n",
    "# print(ant.spectral_entropy(x, sf=100, method='welch', normalize=False))\n",
    "# # Singular value decomposition entropy\n",
    "# print(ant.svd_entropy(x, normalize=False))\n",
    "# # Approximate entropy\n",
    "# print(ant.app_entropy(x))\n",
    "# # Sample entropy\n",
    "# print(ant.sample_entropy(x))"
   ]
  },
  {
   "cell_type": "code",
   "execution_count": 5,
   "id": "b6f6ab54",
   "metadata": {
    "execution": {
     "iopub.execute_input": "2023-11-02T08:25:12.183234Z",
     "iopub.status.busy": "2023-11-02T08:25:12.182489Z",
     "iopub.status.idle": "2023-11-02T08:25:12.190730Z",
     "shell.execute_reply": "2023-11-02T08:25:12.189419Z"
    },
    "papermill": {
     "duration": 0.026655,
     "end_time": "2023-11-02T08:25:12.193449",
     "exception": false,
     "start_time": "2023-11-02T08:25:12.166794",
     "status": "completed"
    },
    "tags": []
   },
   "outputs": [],
   "source": [
    "p1Path = \"/kaggle/input/stressnet-eeg-data/SEED_EEG/Preprocessed_EEG/1_20131027.mat\""
   ]
  },
  {
   "cell_type": "code",
   "execution_count": 6,
   "id": "6332aed5",
   "metadata": {
    "execution": {
     "iopub.execute_input": "2023-11-02T08:25:12.226312Z",
     "iopub.status.busy": "2023-11-02T08:25:12.225860Z",
     "iopub.status.idle": "2023-11-02T08:25:16.460329Z",
     "shell.execute_reply": "2023-11-02T08:25:16.458720Z"
    },
    "papermill": {
     "duration": 4.25395,
     "end_time": "2023-11-02T08:25:16.463031",
     "exception": false,
     "start_time": "2023-11-02T08:25:12.209081",
     "status": "completed"
    },
    "tags": []
   },
   "outputs": [
    {
     "name": "stdout",
     "output_type": "stream",
     "text": [
      "<class 'dict'>\n"
     ]
    }
   ],
   "source": [
    "data = loadmat(p1Path)\n",
    "print(type(data))\n",
    "data_1_trail= data['djc_eeg1']"
   ]
  },
  {
   "cell_type": "code",
   "execution_count": 7,
   "id": "5bf6deaf",
   "metadata": {
    "execution": {
     "iopub.execute_input": "2023-11-02T08:25:16.497424Z",
     "iopub.status.busy": "2023-11-02T08:25:16.496647Z",
     "iopub.status.idle": "2023-11-02T08:25:16.508154Z",
     "shell.execute_reply": "2023-11-02T08:25:16.506301Z"
    },
    "jupyter": {
     "source_hidden": true
    },
    "papermill": {
     "duration": 0.032206,
     "end_time": "2023-11-02T08:25:16.510857",
     "exception": false,
     "start_time": "2023-11-02T08:25:16.478651",
     "status": "completed"
    },
    "tags": []
   },
   "outputs": [
    {
     "data": {
      "text/plain": [
       "62"
      ]
     },
     "execution_count": 7,
     "metadata": {},
     "output_type": "execute_result"
    }
   ],
   "source": [
    "len(data_1_trail)"
   ]
  },
  {
   "cell_type": "code",
   "execution_count": 8,
   "id": "0b26d001",
   "metadata": {
    "execution": {
     "iopub.execute_input": "2023-11-02T08:25:16.544338Z",
     "iopub.status.busy": "2023-11-02T08:25:16.542719Z",
     "iopub.status.idle": "2023-11-02T08:25:16.551533Z",
     "shell.execute_reply": "2023-11-02T08:25:16.550071Z"
    },
    "jupyter": {
     "source_hidden": true
    },
    "papermill": {
     "duration": 0.029518,
     "end_time": "2023-11-02T08:25:16.554760",
     "exception": false,
     "start_time": "2023-11-02T08:25:16.525242",
     "status": "completed"
    },
    "tags": []
   },
   "outputs": [
    {
     "name": "stdout",
     "output_type": "stream",
     "text": [
      "47001\n"
     ]
    }
   ],
   "source": [
    "data_1_trail_channel = data_1_trail[0,:]\n",
    "print(len(data_1_trail_channel))"
   ]
  },
  {
   "cell_type": "code",
   "execution_count": 9,
   "id": "f09496af",
   "metadata": {
    "execution": {
     "iopub.execute_input": "2023-11-02T08:25:16.589192Z",
     "iopub.status.busy": "2023-11-02T08:25:16.588746Z",
     "iopub.status.idle": "2023-11-02T08:25:16.604060Z",
     "shell.execute_reply": "2023-11-02T08:25:16.602735Z"
    },
    "jupyter": {
     "source_hidden": true
    },
    "papermill": {
     "duration": 0.034861,
     "end_time": "2023-11-02T08:25:16.607038",
     "exception": false,
     "start_time": "2023-11-02T08:25:16.572177",
     "status": "completed"
    },
    "tags": []
   },
   "outputs": [],
   "source": [
    "def extract(data_1_trail_channel):\n",
    "    fs = 1000\n",
    "    filter_order = 4\n",
    "\n",
    "    alpha_band = (8, 13)\n",
    "    beta_band = (13, 30)\n",
    "    theta_band = (4, 7)\n",
    "\n",
    "    # Design Butterworth filters for each frequency band\n",
    "    def butter_bandpass(lowcut, highcut, fs, order=4):\n",
    "        nyq = 0.5 * fs\n",
    "        low = lowcut / nyq\n",
    "        high = highcut / nyq\n",
    "        b, a = butter(order, [low, high], btype='band')\n",
    "        return b, a\n",
    "\n",
    "    b_alpha, a_alpha = butter_bandpass(alpha_band[0], alpha_band[1], fs, order=filter_order)\n",
    "    b_beta, a_beta = butter_bandpass(beta_band[0], beta_band[1], fs, order=filter_order)\n",
    "    b_theta, a_theta = butter_bandpass(theta_band[0], theta_band[1], fs, order=filter_order)\n",
    "\n",
    "    # Apply the Butterworth filters to the EEG data\n",
    "    alpha_signal = filtfilt(b_alpha, a_alpha, data_1_trail_channel)\n",
    "    beta_signal = filtfilt(b_beta, a_beta, data_1_trail_channel)\n",
    "    theta_signal = filtfilt(b_theta, a_theta, data_1_trail_channel)\n",
    "\n",
    "#     t = np.arange(len(data_1_trail_channel)) / fs\n",
    "\n",
    "#     plt.figure(figsize=(12, 6))\n",
    "\n",
    "#     plt.subplot(321)\n",
    "#     plt.plot(t, data_1_trail_channel)\n",
    "#     plt.title('Original EEG Signal')\n",
    "#     plt.xlabel('Time (s)')\n",
    "#     plt.ylabel('Amplitude')\n",
    "\n",
    "#     plt.subplot(322)\n",
    "#     plt.plot(t, alpha_signal)\n",
    "#     plt.title('Alpha Band Filtered Signal')\n",
    "#     plt.xlabel('Time (s)')\n",
    "#     plt.ylabel('Amplitude')\n",
    "\n",
    "#     plt.subplot(323)\n",
    "#     plt.plot(t, beta_signal)\n",
    "#     plt.title('Beta Band Filtered Signal')\n",
    "#     plt.xlabel('Time (s)')\n",
    "#     plt.ylabel('Amplitude')\n",
    "\n",
    "#     plt.subplot(324)\n",
    "#     plt.plot(t, theta_signal)\n",
    "#     plt.title('Theta Band Filtered Signal')\n",
    "#     plt.xlabel('Time (s)')\n",
    "#     plt.ylabel('Amplitude')\n",
    "\n",
    "#     plt.tight_layout()\n",
    "#     plt.show()\n",
    "    return alpha_signal, beta_signal,theta_signal\n",
    "\n",
    "def getenergy(s):\n",
    "    return ant.app_entropy(s),ant.perm_entropy(s, normalize=True)\n",
    "\n"
   ]
  },
  {
   "cell_type": "code",
   "execution_count": 10,
   "id": "eb19fc42",
   "metadata": {
    "execution": {
     "iopub.execute_input": "2023-11-02T08:25:16.640139Z",
     "iopub.status.busy": "2023-11-02T08:25:16.639739Z",
     "iopub.status.idle": "2023-11-02T08:25:16.647053Z",
     "shell.execute_reply": "2023-11-02T08:25:16.645827Z"
    },
    "jupyter": {
     "source_hidden": true
    },
    "papermill": {
     "duration": 0.028183,
     "end_time": "2023-11-02T08:25:16.650437",
     "exception": false,
     "start_time": "2023-11-02T08:25:16.622254",
     "status": "completed"
    },
    "tags": []
   },
   "outputs": [],
   "source": [
    "def getavgenergy(data_1_trail_channel):\n",
    "    a,b,t= extract(data_1_trail_channel)\n",
    "    avga1,avga2 = getenergy(a)\n",
    "    avgb1 ,avgb2 = getenergy(b)\n",
    "    avgt1 ,avgt2 = getenergy(b)\n",
    "    avg1 = (avga1+avgb1+avgt1)/3\n",
    "    avg2 = (avga2+avgb2+avgt2)/3\n",
    "    return avg1,avg2\n",
    "    "
   ]
  },
  {
   "cell_type": "code",
   "execution_count": 11,
   "id": "b7bbe177",
   "metadata": {
    "execution": {
     "iopub.execute_input": "2023-11-02T08:25:16.681709Z",
     "iopub.status.busy": "2023-11-02T08:25:16.681305Z",
     "iopub.status.idle": "2023-11-02T08:25:16.696245Z",
     "shell.execute_reply": "2023-11-02T08:25:16.694837Z"
    },
    "jupyter": {
     "source_hidden": true
    },
    "papermill": {
     "duration": 0.034123,
     "end_time": "2023-11-02T08:25:16.699335",
     "exception": false,
     "start_time": "2023-11-02T08:25:16.665212",
     "status": "completed"
    },
    "tags": []
   },
   "outputs": [],
   "source": [
    "from PIL import Image\n",
    "\n",
    "def getimg(avgs,name):\n",
    "    print(name)\n",
    "    na = []\n",
    "    s1 = [4,1,2,3,5]\n",
    "    s2 = range(6,51)\n",
    "    s3 = range(51,58)\n",
    "    s4 = range(58,63)\n",
    "    na.append(0)\n",
    "    na.append(0)\n",
    "    for i in s1:\n",
    "        na.append(avgs[i-1])\n",
    "    na.append(0)\n",
    "    na.append(0)\n",
    "    for i in s2:\n",
    "        na.append(avgs[i-1])\n",
    "\n",
    "    na.append(0)   \n",
    "    for i in s3:\n",
    "        na.append(avgs[i-1])\n",
    "    na.append(0) \n",
    "    na.append(0) \n",
    "    na.append(0) \n",
    "    for i in s4:\n",
    "        na.append(avgs[i-1])\n",
    "\n",
    "    na.append(0) \n",
    "    na.append(0) \n",
    "    nb = np.array(na)\n",
    "    image = nb.reshape((8, 9))\n",
    "\n",
    "#     normalized_image = (image - image.min()) / (image.max() - image.min())\n",
    "    normalized_image = image\n",
    "\n",
    "    img = Image.fromarray((normalized_image * 255).astype('uint8'))\n",
    "    img.save(name)\n",
    "\n",
    "    # Plot the normalized 2D image\n",
    "    plt.imshow(normalized_image, cmap='plasma')  # You can choose a different colormap\n",
    "    plt.colorbar()\n",
    "    plt.show()\n",
    "    # na.append(avgs[])\n"
   ]
  },
  {
   "cell_type": "code",
   "execution_count": null,
   "id": "b4cc459c",
   "metadata": {
    "papermill": {
     "duration": 0.014686,
     "end_time": "2023-11-02T08:25:16.729030",
     "exception": false,
     "start_time": "2023-11-02T08:25:16.714344",
     "status": "completed"
    },
    "tags": []
   },
   "outputs": [],
   "source": []
  },
  {
   "cell_type": "code",
   "execution_count": 12,
   "id": "ffc6fa84",
   "metadata": {
    "execution": {
     "iopub.execute_input": "2023-11-02T08:25:16.764550Z",
     "iopub.status.busy": "2023-11-02T08:25:16.763600Z",
     "iopub.status.idle": "2023-11-02T08:25:16.769656Z",
     "shell.execute_reply": "2023-11-02T08:25:16.768700Z"
    },
    "papermill": {
     "duration": 0.02791,
     "end_time": "2023-11-02T08:25:16.772381",
     "exception": false,
     "start_time": "2023-11-02T08:25:16.744471",
     "status": "completed"
    },
    "tags": []
   },
   "outputs": [],
   "source": [
    "# index = 1 \n",
    "# for j in tqdm(data):\n",
    "#     if(j>'c'):\n",
    "#         avgs = []\n",
    "#         for i in data[str(j)] :\n",
    "#         #     print(index,\" :  \",getavgenergy(i)[0])\n",
    "#             en = getavgenergy(i)\n",
    "#             avgs.append(en[0])\n",
    "#         getimg(avgs,str(index)+'.png')\n",
    "#         index+=1\n"
   ]
  },
  {
   "cell_type": "markdown",
   "id": "35adf863",
   "metadata": {
    "papermill": {
     "duration": 0.015132,
     "end_time": "2023-11-02T08:25:16.802188",
     "exception": false,
     "start_time": "2023-11-02T08:25:16.787056",
     "status": "completed"
    },
    "tags": []
   },
   "source": [
    "# Projections"
   ]
  },
  {
   "cell_type": "markdown",
   "id": "18c82897",
   "metadata": {
    "papermill": {
     "duration": 0.014354,
     "end_time": "2023-11-02T08:25:16.833219",
     "exception": false,
     "start_time": "2023-11-02T08:25:16.818865",
     "status": "completed"
    },
    "tags": []
   },
   "source": [
    "#### extra\n"
   ]
  },
  {
   "cell_type": "code",
   "execution_count": 13,
   "id": "199f1a5d",
   "metadata": {
    "execution": {
     "iopub.execute_input": "2023-11-02T08:25:16.866065Z",
     "iopub.status.busy": "2023-11-02T08:25:16.865629Z",
     "iopub.status.idle": "2023-11-02T08:25:16.871945Z",
     "shell.execute_reply": "2023-11-02T08:25:16.870278Z"
    },
    "papermill": {
     "duration": 0.025857,
     "end_time": "2023-11-02T08:25:16.874652",
     "exception": false,
     "start_time": "2023-11-02T08:25:16.848795",
     "status": "completed"
    },
    "tags": []
   },
   "outputs": [],
   "source": [
    "# data = np.column_stack((theta_signal, alpha_signal, beta_signal))\n",
    "\n",
    "# # Perform azimuthal projection\n",
    "# r = np.linalg.norm(data, axis=1)  # Calculate radial distance from origin\n",
    "# theta = np.arctan2(data[:, 1], data[:, 0])  # Calculate azimuthal angle\n",
    "\n",
    "# fig = plt.figure()\n",
    "# ax = fig.add_subplot(111, projection='3d')\n",
    "\n",
    "# # Create the azimuthal projection plot\n",
    "# ax.scatter(theta, r, c='b', marker='o')\n",
    "\n",
    "# # Set labels\n",
    "# ax.set_xlabel('Theta')\n",
    "# ax.set_ylabel('Radius')\n",
    "# ax.set_zlabel('Alpha')\n",
    "\n",
    "# plt.show()"
   ]
  },
  {
   "cell_type": "code",
   "execution_count": 14,
   "id": "05cf7f06",
   "metadata": {
    "execution": {
     "iopub.execute_input": "2023-11-02T08:25:16.906602Z",
     "iopub.status.busy": "2023-11-02T08:25:16.906195Z",
     "iopub.status.idle": "2023-11-02T08:25:16.913499Z",
     "shell.execute_reply": "2023-11-02T08:25:16.912054Z"
    },
    "papermill": {
     "duration": 0.027998,
     "end_time": "2023-11-02T08:25:16.917113",
     "exception": false,
     "start_time": "2023-11-02T08:25:16.889115",
     "status": "completed"
    },
    "tags": []
   },
   "outputs": [],
   "source": [
    "# n = 100\n",
    "\n",
    "# alpha_downsampled = alpha_signal[::n]\n",
    "# beta_downsampled = beta_signal[::n]\n",
    "# theta_downsampled = theta_signal[::n]"
   ]
  },
  {
   "cell_type": "code",
   "execution_count": 15,
   "id": "acc6b040",
   "metadata": {
    "execution": {
     "iopub.execute_input": "2023-11-02T08:25:16.950747Z",
     "iopub.status.busy": "2023-11-02T08:25:16.950358Z",
     "iopub.status.idle": "2023-11-02T08:25:16.956421Z",
     "shell.execute_reply": "2023-11-02T08:25:16.955017Z"
    },
    "papermill": {
     "duration": 0.02569,
     "end_time": "2023-11-02T08:25:16.959345",
     "exception": false,
     "start_time": "2023-11-02T08:25:16.933655",
     "status": "completed"
    },
    "tags": []
   },
   "outputs": [],
   "source": [
    "# import matplotlib.cm as cm\n",
    "\n",
    "# m = 471\n",
    "\n",
    "# # Define the dimensions of your 3D grid (e.g., brain volume)\n",
    "# x = np.linspace(-1, 1, num=m)  # Adjust as needed\n",
    "# y = np.linspace(-1, 1, num=m)  # Adjust as needed\n",
    "# z = np.linspace(-1, 1, num=m)  # Adjust as needed\n",
    "\n",
    "# # Create a 3D grid\n",
    "# X, Y, Z = np.meshgrid(x, y, z)\n",
    "\n",
    "# # Define the combined 3D signal based on your waves\n",
    "# combined_signal = alpha_downsampled * X + beta_downsampled * Y + theta_downsampled * Z  # Adjust as needed\n",
    "\n",
    "# # Define the azimuthal projection plane\n",
    "# # For simplicity, let's assume it's the XY plane (z = 0)\n",
    "# projection_plane = Z == 0\n",
    "\n",
    "# # Perform the azimuthal projection onto the XY plane\n",
    "# projected_image = combined_signal[projection_plane]\n",
    "\n",
    "# projected_image = projected_image.reshape(m, m)\n",
    "\n",
    "\n",
    "# # Visualize the projected 2D image\n",
    "# plt.imshow(projected_image, cmap='autumn')  # Adjust colormap as needed\n",
    "# plt.show()\n"
   ]
  },
  {
   "cell_type": "markdown",
   "id": "5d18d785",
   "metadata": {
    "papermill": {
     "duration": 0.015316,
     "end_time": "2023-11-02T08:25:16.989173",
     "exception": false,
     "start_time": "2023-11-02T08:25:16.973857",
     "status": "completed"
    },
    "tags": []
   },
   "source": [
    "# New method\n"
   ]
  },
  {
   "cell_type": "code",
   "execution_count": 16,
   "id": "d4d40386",
   "metadata": {
    "execution": {
     "iopub.execute_input": "2023-11-02T08:25:17.021652Z",
     "iopub.status.busy": "2023-11-02T08:25:17.021231Z",
     "iopub.status.idle": "2023-11-02T08:25:17.026555Z",
     "shell.execute_reply": "2023-11-02T08:25:17.025087Z"
    },
    "papermill": {
     "duration": 0.024352,
     "end_time": "2023-11-02T08:25:17.029187",
     "exception": false,
     "start_time": "2023-11-02T08:25:17.004835",
     "status": "completed"
    },
    "tags": []
   },
   "outputs": [],
   "source": [
    "# data1= pd.read_excel('/kaggle/input/electrode-position/channel-order.xlsx')\n",
    "# data1\n"
   ]
  },
  {
   "cell_type": "code",
   "execution_count": 17,
   "id": "07c93d4d",
   "metadata": {
    "execution": {
     "iopub.execute_input": "2023-11-02T08:25:17.138796Z",
     "iopub.status.busy": "2023-11-02T08:25:17.137852Z",
     "iopub.status.idle": "2023-11-02T08:25:17.142968Z",
     "shell.execute_reply": "2023-11-02T08:25:17.141870Z"
    },
    "papermill": {
     "duration": 0.025762,
     "end_time": "2023-11-02T08:25:17.145984",
     "exception": false,
     "start_time": "2023-11-02T08:25:17.120222",
     "status": "completed"
    },
    "tags": []
   },
   "outputs": [],
   "source": [
    "# # Convert azimuthal and polar angles to radians\n",
    "# azimuthal_angles = np.radians(data1['Azimuthal'])\n",
    "# polar_angles = np.radians(data1['Polar'])\n",
    "\n",
    "# # Calculate Cartesian coordinates using azimuthal projection\n",
    "# x = polar_angles * np.cos(azimuthal_angles)\n",
    "# y = polar_angles * np.sin(azimuthal_angles)\n",
    "\n"
   ]
  },
  {
   "cell_type": "code",
   "execution_count": 18,
   "id": "189115c4",
   "metadata": {
    "execution": {
     "iopub.execute_input": "2023-11-02T08:25:17.178758Z",
     "iopub.status.busy": "2023-11-02T08:25:17.178036Z",
     "iopub.status.idle": "2023-11-02T08:25:17.183099Z",
     "shell.execute_reply": "2023-11-02T08:25:17.181999Z"
    },
    "papermill": {
     "duration": 0.025084,
     "end_time": "2023-11-02T08:25:17.185737",
     "exception": false,
     "start_time": "2023-11-02T08:25:17.160653",
     "status": "completed"
    },
    "tags": []
   },
   "outputs": [],
   "source": [
    "# new_column = pd.Series(y, name='y')\n",
    "\n",
    "# # Add the new column to the DataFrame\n",
    "# data1['y'] = new_column\n",
    "# data1,x\n",
    "# data1.to_excel('/kaggle/working/channel-order1.xlsx', index=False)"
   ]
  },
  {
   "cell_type": "code",
   "execution_count": 19,
   "id": "f6a143ac",
   "metadata": {
    "execution": {
     "iopub.execute_input": "2023-11-02T08:25:17.218107Z",
     "iopub.status.busy": "2023-11-02T08:25:17.217578Z",
     "iopub.status.idle": "2023-11-02T08:25:18.490056Z",
     "shell.execute_reply": "2023-11-02T08:25:18.487762Z"
    },
    "papermill": {
     "duration": 1.292116,
     "end_time": "2023-11-02T08:25:18.492954",
     "exception": false,
     "start_time": "2023-11-02T08:25:17.200838",
     "status": "completed"
    },
    "tags": []
   },
   "outputs": [
    {
     "data": {
      "image/png": "[encoded data removed]",
      "text/plain": [
       "<Figure size 800x800 with 1 Axes>"
      ]
     },
     "metadata": {},
     "output_type": "display_data"
    }
   ],
   "source": [
    "df = pd.read_excel('/kaggle/input/electrode-xy/channel-order1.xlsx')\n",
    "# Create a scatter plot\n",
    "x = df['x']\n",
    "y = df['y']\n",
    "plt.figure(figsize=(8, 8))\n",
    "plt.scatter(x, y)\n",
    "\n",
    "# Annotate the points with labels\n",
    "for i in range(len(df)):\n",
    "    plt.annotate(df['Electrode'][i], (x[i], y[i]), textcoords=\"offset points\", xytext=(0, 5), ha=\"center\")\n",
    "\n",
    "# Set labels and title\n",
    "plt.xlabel(\"X\")\n",
    "plt.ylabel(\"Y\")\n",
    "plt.title(\"Azimuthal Projection\")\n",
    "\n",
    "# Show the plot\n",
    "plt.grid()\n",
    "plt.show()\n"
   ]
  },
  {
   "cell_type": "code",
   "execution_count": 20,
   "id": "65cdd849",
   "metadata": {
    "execution": {
     "iopub.execute_input": "2023-11-02T08:25:18.529090Z",
     "iopub.status.busy": "2023-11-02T08:25:18.528451Z",
     "iopub.status.idle": "2023-11-02T08:25:18.536022Z",
     "shell.execute_reply": "2023-11-02T08:25:18.534844Z"
    },
    "papermill": {
     "duration": 0.028544,
     "end_time": "2023-11-02T08:25:18.538538",
     "exception": false,
     "start_time": "2023-11-02T08:25:18.509994",
     "status": "completed"
    },
    "tags": []
   },
   "outputs": [],
   "source": [
    "import random\n",
    "def getavgenergy2(data_1_trail_channel):\n",
    "    a,b,t= extract(data_1_trail_channel)\n",
    "    avga1,avga2 = getenergy(a)\n",
    "    avgb1 ,avgb2 = getenergy(b)\n",
    "    avgt1 ,avgt2 = getenergy(b)\n",
    "    return avga1,avgb1,avgt1\n",
    "#     rfr1= random.uniform(0, 0.5)\n",
    "#     rfr2= random.uniform(0, 0.5)\n",
    "#     rfr3= random.uniform(0, 0.5)\n",
    "#     return 0.5+rfr1,0.2+rfr2,0.1+rfr3"
   ]
  },
  {
   "cell_type": "code",
   "execution_count": 21,
   "id": "6a28b814",
   "metadata": {
    "execution": {
     "iopub.execute_input": "2023-11-02T08:25:18.574799Z",
     "iopub.status.busy": "2023-11-02T08:25:18.574069Z",
     "iopub.status.idle": "2023-11-02T08:25:18.605341Z",
     "shell.execute_reply": "2023-11-02T08:25:18.603380Z"
    },
    "papermill": {
     "duration": 0.053584,
     "end_time": "2023-11-02T08:25:18.608149",
     "exception": false,
     "start_time": "2023-11-02T08:25:18.554565",
     "status": "completed"
    },
    "tags": []
   },
   "outputs": [],
   "source": [
    "def work(data,name2):\n",
    "    \n",
    "    emotions = [1,0,-1,-1,0,1,-1,0,1,1,0,-1,0,1,-1]\n",
    "    index = 1 \n",
    "    for j in data:\n",
    "        avgs = []\n",
    "        if(j>'c'):\n",
    "            for i in tqdm(data[str(j)]) :\n",
    "    #             print(index,\" :  \",getavgenergy(i)[0])\n",
    "                a,b,t = getavgenergy2(i)\n",
    "    #             print(a,b,t)\n",
    "                avgs.append((a,b,t))\n",
    "\n",
    "#             print(avgs)\n",
    "\n",
    "            data2  = avgs\n",
    "\n",
    "            # Extract the values from the selected column\n",
    "            column_values1 = [x[0] for x in data2]\n",
    "            column_values2 = [x[1] for x in data2]\n",
    "            column_values3 = [x[2] for x in data2]\n",
    "\n",
    "            # Find the minimum and maximum values in the column\n",
    "            min_value1 = min(column_values1)\n",
    "            max_value1 = max(column_values1)\n",
    "            value_range1 = max_value1 - min_value1\n",
    "\n",
    "            min_value2 = min(column_values2)\n",
    "            max_value2 = max(column_values2)\n",
    "            value_range2 = max_value2 - min_value2\n",
    "\n",
    "            min_value3 = min(column_values3)\n",
    "            max_value3 = max(column_values3)\n",
    "            value_range3 = max_value3 - min_value3\n",
    "#             print(min_value1)\n",
    "            # Normalize the values in the column and scale to [0, 255]\n",
    "            normalized_data = [(int((x[0] - min_value1) / value_range1 * 255), int((x[1] - min_value2) / value_range2 * 255), int((x[2] - min_value3) / value_range3 * 255)) for x in data2]\n",
    "\n",
    "            # Print the normalized data\n",
    "            # print(normalized_data)\n",
    "\n",
    "\n",
    "            normdata = np.array(normalized_data)\n",
    "\n",
    "            df['rgb'] = normalized_data\n",
    "\n",
    "            df\n",
    "            selected_columns = ['x', 'y', 'rgb']\n",
    "\n",
    "            # Use the values attribute to convert the selected columns into a NumPy array\n",
    "            coord = df[selected_columns].values\n",
    "\n",
    "            # print(coord)\n",
    "\n",
    "\n",
    "\n",
    "            data3  = coord\n",
    "            mult = 30\n",
    "            pad = 10\n",
    "\n",
    "            column_values1 = [x[0] for x in data3]\n",
    "            column_values2 = [x[1] for x in data3]\n",
    "\n",
    "            min_value1 = min(column_values1)\n",
    "            max_value1 = max(column_values1)\n",
    "            value_range1 = max_value1 - min_value1\n",
    "\n",
    "            min_value2 = min(column_values2)\n",
    "            max_value2 = max(column_values2)\n",
    "            value_range2 = max_value2 - min_value2\n",
    "\n",
    "\n",
    "            # Normalize the values in the column and scale to [0, 255]\n",
    "            normalized_data2 = [[(int((x[0] - min_value1) / value_range1 * mult))+pad, (int((x[1] - min_value2) / value_range2 * mult))+pad, x[2]] for x in data3]\n",
    "\n",
    "            # Print the normalized data\n",
    "            # print(normalized_data2)\n",
    "#             print(len(normalized_data2))\n",
    "            from PIL import Image, ImageDraw\n",
    "\n",
    "            # Define the image size and create a blank image\n",
    "            width = mult + pad +pad # Adjust this to your desired image width\n",
    "            height =mult + pad +pad # Adjust this to your desired image height\n",
    "            image = Image.new('RGB', (width, height), (0, 0, 0))  # Initialize with a black background\n",
    "\n",
    "            # Define your (x, y) coordinates and corresponding RGB values\n",
    "            coordinates = normalized_data2\n",
    "\n",
    "            # Create a drawing context on the image\n",
    "            draw = ImageDraw.Draw(image)\n",
    "\n",
    "            # Draw colored pixels at the specified (x, y) coordinates\n",
    "            for (x, y, color) in coordinates:\n",
    "                draw.point((x, y), fill=color)\n",
    "\n",
    "            # Save the image to a file\n",
    "#             image.save('output_image.png')\n",
    "            # print(image)\n",
    "\n",
    "\n",
    "\n",
    "\n",
    "            image_data = np.array(image)\n",
    "            from IPython.display import display\n",
    "            # display(image)\n",
    "\n",
    "\n",
    "\n",
    "\n",
    "            image_data = np.array(image)\n",
    "            count = 0 \n",
    "            for x in range(width):\n",
    "                for y in range(height):\n",
    "                    if all(image_data[y, x] != [0, 0, 0]): \n",
    "                        count += 1\n",
    "#             print(count)\n",
    "\n",
    "            # for ll in tqdm(range(1,6)):\n",
    "            for i in (range(0,2)):\n",
    "                for x in range(width):\n",
    "                    for y in range(height):\n",
    "                        if all(image_data[y, x] == [0, 0, 0]):  # Check if this pixel is black (unfilled)\n",
    "                            # Find the nearest filled pixels\n",
    "                            nearest_points = []\n",
    "                            for dx in [-1, 0, 1]:\n",
    "                                for dy in [-1, 0, 1]:\n",
    "                                    if 0 <= x + dx < width and 0 <= y + dy < height:\n",
    "                                        if all(image_data[y + dy, x + dx] != [0, 0, 0]):\n",
    "                                            nearest_points.append((x + dx, y + dy))\n",
    "\n",
    "                            if nearest_points:\n",
    "                                # Calculate the average color of the nearest filled pixels\n",
    "                                average_color = np.mean([image_data[y, x] for x, y in nearest_points], axis=0).astype(int)\n",
    "                                draw.point((x, y), fill=tuple(average_color))\n",
    "                image_data = np.array(image)\n",
    "                count = 0 \n",
    "                for x in range(width):\n",
    "                    for y in range(height):\n",
    "                        if all(image_data[y, x] != [0, 0, 0]): \n",
    "                            count += 1\n",
    "            #         print(count)\n",
    "\n",
    "            # Save or display the interpolated image\n",
    "            # image.save('interpolated_image.png')\n",
    "            display(image)\n",
    "            name = 'IPI_'+ name2+'_'+str(index)+'_'+str(emotions[index-1])+'.png'\n",
    "            image.save(name)\n",
    "            normdata = np.array(normalized_data)\n",
    "            print(index)\n",
    "            index+=1\n",
    "           \n",
    "\n",
    "\n",
    "\n",
    "\n",
    "    "
   ]
  },
  {
   "cell_type": "code",
   "execution_count": 22,
   "id": "6f97aef4",
   "metadata": {
    "execution": {
     "iopub.execute_input": "2023-11-02T08:25:18.643900Z",
     "iopub.status.busy": "2023-11-02T08:25:18.642359Z",
     "iopub.status.idle": "2023-11-02T08:25:18.651104Z",
     "shell.execute_reply": "2023-11-02T08:25:18.649275Z"
    },
    "papermill": {
     "duration": 0.029343,
     "end_time": "2023-11-02T08:25:18.654113",
     "exception": false,
     "start_time": "2023-11-02T08:25:18.624770",
     "status": "completed"
    },
    "tags": []
   },
   "outputs": [
    {
     "name": "stdout",
     "output_type": "stream",
     "text": [
      "hi\n"
     ]
    }
   ],
   "source": [
    "print(\"hi\")"
   ]
  },
  {
   "cell_type": "code",
   "execution_count": 23,
   "id": "adc7c88a",
   "metadata": {
    "execution": {
     "iopub.execute_input": "2023-11-02T08:25:18.690585Z",
     "iopub.status.busy": "2023-11-02T08:25:18.689753Z",
     "iopub.status.idle": "2023-11-02T08:25:18.719292Z",
     "shell.execute_reply": "2023-11-02T08:25:18.718337Z"
    },
    "jupyter": {
     "source_hidden": true
    },
    "papermill": {
     "duration": 0.051573,
     "end_time": "2023-11-02T08:25:18.721754",
     "exception": false,
     "start_time": "2023-11-02T08:25:18.670181",
     "status": "completed"
    },
    "tags": []
   },
   "outputs": [
    {
     "data": {
      "text/plain": [
       "45"
      ]
     },
     "execution_count": 23,
     "metadata": {},
     "output_type": "execute_result"
    }
   ],
   "source": [
    "import os\n",
    "\n",
    "# Specify the directory path\n",
    "directory_path = '/kaggle/input/stressnet-eeg-data/SEED_EEG/Preprocessed_EEG'  # Change this to the directory you want to iterate through\n",
    "\n",
    "# Use os.listdir() to get a list of all files and directories in the specified directory\n",
    "files_and_directories = os.listdir(directory_path)\n",
    "\n",
    "names = []\n",
    "\n",
    "for item in files_and_directories:\n",
    "    if(item < 'a'):\n",
    "        names.append(item)\n",
    "#         item_path = os.path.join(directory_path, item)  # Create the full path to the item\n",
    "#         if os.path.isfile(item_path):  # Check if it's a file (not a directory)\n",
    "#             names.append(item_path)  # This is a file\n",
    "names.sort()\n",
    "\n",
    "paths = []\n",
    "for name in names:\n",
    "    item_path = os.path.join(directory_path, name)  # Create the full path to the item\n",
    "    if os.path.isfile(item_path):  # Check if it's a file (not a directory)\n",
    "        paths.append(item_path)\n",
    "        \n",
    "len(paths)\n",
    "    "
   ]
  },
  {
   "cell_type": "code",
   "execution_count": null,
   "id": "49ffef59",
   "metadata": {
    "papermill": {
     "duration": 0.017712,
     "end_time": "2023-11-02T08:25:18.755239",
     "exception": false,
     "start_time": "2023-11-02T08:25:18.737527",
     "status": "completed"
    },
    "tags": []
   },
   "outputs": [],
   "source": []
  },
  {
   "cell_type": "code",
   "execution_count": 24,
   "id": "02fa4809",
   "metadata": {
    "execution": {
     "iopub.execute_input": "2023-11-02T08:25:18.790762Z",
     "iopub.status.busy": "2023-11-02T08:25:18.789977Z",
     "iopub.status.idle": "2023-11-02T08:25:18.794459Z",
     "shell.execute_reply": "2023-11-02T08:25:18.793465Z"
    },
    "papermill": {
     "duration": 0.024604,
     "end_time": "2023-11-02T08:25:18.796885",
     "exception": false,
     "start_time": "2023-11-02T08:25:18.772281",
     "status": "completed"
    },
    "tags": []
   },
   "outputs": [],
   "source": [
    "# for i in range(len(paths)-39):\n",
    "#     data = loadmat(paths[i])\n",
    "\n",
    "#     k,j = names[i].split('.')\n",
    "#     work(data,k)\n",
    "\n",
    "\n"
   ]
  },
  {
   "cell_type": "code",
   "execution_count": 25,
   "id": "bddcfb99",
   "metadata": {
    "execution": {
     "iopub.execute_input": "2023-11-02T08:25:18.831965Z",
     "iopub.status.busy": "2023-11-02T08:25:18.831052Z",
     "iopub.status.idle": "2023-11-02T10:10:04.406843Z",
     "shell.execute_reply": "2023-11-02T10:10:04.405162Z"
    },
    "papermill": {
     "duration": 6285.597848,
     "end_time": "2023-11-02T10:10:04.409817",
     "exception": false,
     "start_time": "2023-11-02T08:25:18.811969",
     "status": "completed"
    },
    "tags": []
   },
   "outputs": [
    {
     "name": "stdout",
     "output_type": "stream",
     "text": [
      "6_20131016\n"
     ]
    },
    {
     "name": "stderr",
     "output_type": "stream",
     "text": [
      "100%|██████████| 62/62 [07:08<00:00,  6.91s/it]\n"
     ]
    },
    {
     "data": {
      "image/png": "[encoded data removed]",
      "text/plain": [
       "<PIL.Image.Image image mode=RGB size=50x50>"
      ]
     },
     "metadata": {},
     "output_type": "display_data"
    },
    {
     "name": "stdout",
     "output_type": "stream",
     "text": [
      "1\n"
     ]
    },
    {
     "name": "stderr",
     "output_type": "stream",
     "text": [
      "100%|██████████| 62/62 [07:00<00:00,  6.78s/it]\n"
     ]
    },
    {
     "data": {
      "image/png": "[encoded data removed]",
      "text/plain": [
       "<PIL.Image.Image image mode=RGB size=50x50>"
      ]
     },
     "metadata": {},
     "output_type": "display_data"
    },
    {
     "name": "stdout",
     "output_type": "stream",
     "text": [
      "2\n"
     ]
    },
    {
     "name": "stderr",
     "output_type": "stream",
     "text": [
      "100%|██████████| 62/62 [05:40<00:00,  5.49s/it]\n"
     ]
    },
    {
     "data": {
      "image/png": "[encoded data removed]",
      "text/plain": [
       "<PIL.Image.Image image mode=RGB size=50x50>"
      ]
     },
     "metadata": {},
     "output_type": "display_data"
    },
    {
     "name": "stdout",
     "output_type": "stream",
     "text": [
      "3\n"
     ]
    },
    {
     "name": "stderr",
     "output_type": "stream",
     "text": [
      "100%|██████████| 62/62 [07:06<00:00,  6.87s/it]\n"
     ]
    },
    {
     "data": {
      "image/png": "[encoded data removed]",
      "text/plain": [
       "<PIL.Image.Image image mode=RGB size=50x50>"
      ]
     },
     "metadata": {},
     "output_type": "display_data"
    },
    {
     "name": "stdout",
     "output_type": "stream",
     "text": [
      "4\n"
     ]
    },
    {
     "name": "stderr",
     "output_type": "stream",
     "text": [
      "100%|██████████| 62/62 [05:26<00:00,  5.26s/it]\n"
     ]
    },
    {
     "data": {
      "image/png": "[encoded data removed]",
      "text/plain": [
       "<PIL.Image.Image image mode=RGB size=50x50>"
      ]
     },
     "metadata": {},
     "output_type": "display_data"
    },
    {
     "name": "stdout",
     "output_type": "stream",
     "text": [
      "5\n"
     ]
    },
    {
     "name": "stderr",
     "output_type": "stream",
     "text": [
      "100%|██████████| 62/62 [05:59<00:00,  5.79s/it]\n"
     ]
    },
    {
     "data": {
      "image/png": "[encoded data removed]",
      "text/plain": [
       "<PIL.Image.Image image mode=RGB size=50x50>"
      ]
     },
     "metadata": {},
     "output_type": "display_data"
    },
    {
     "name": "stdout",
     "output_type": "stream",
     "text": [
      "6\n"
     ]
    },
    {
     "name": "stderr",
     "output_type": "stream",
     "text": [
      "100%|██████████| 62/62 [07:06<00:00,  6.89s/it]\n"
     ]
    },
    {
     "data": {
      "image/png": "[encoded data removed]",
      "text/plain": [
       "<PIL.Image.Image image mode=RGB size=50x50>"
      ]
     },
     "metadata": {},
     "output_type": "display_data"
    },
    {
     "name": "stdout",
     "output_type": "stream",
     "text": [
      "7\n"
     ]
    },
    {
     "name": "stderr",
     "output_type": "stream",
     "text": [
      "100%|██████████| 62/62 [06:16<00:00,  6.07s/it]\n"
     ]
    },
    {
     "data": {
      "image/png": "[encoded data removed]",
      "text/plain": [
       "<PIL.Image.Image image mode=RGB size=50x50>"
      ]
     },
     "metadata": {},
     "output_type": "display_data"
    },
    {
     "name": "stdout",
     "output_type": "stream",
     "text": [
      "8\n"
     ]
    },
    {
     "name": "stderr",
     "output_type": "stream",
     "text": [
      "100%|██████████| 62/62 [08:43<00:00,  8.44s/it]\n"
     ]
    },
    {
     "data": {
      "image/png": "[encoded data removed]",
      "text/plain": [
       "<PIL.Image.Image image mode=RGB size=50x50>"
      ]
     },
     "metadata": {},
     "output_type": "display_data"
    },
    {
     "name": "stdout",
     "output_type": "stream",
     "text": [
      "9\n"
     ]
    },
    {
     "name": "stderr",
     "output_type": "stream",
     "text": [
      "100%|██████████| 62/62 [08:59<00:00,  8.70s/it]\n"
     ]
    },
    {
     "data": {
      "image/png": "[encoded data removed]",
      "text/plain": [
       "<PIL.Image.Image image mode=RGB size=50x50>"
      ]
     },
     "metadata": {},
     "output_type": "display_data"
    },
    {
     "name": "stdout",
     "output_type": "stream",
     "text": [
      "10\n"
     ]
    },
    {
     "name": "stderr",
     "output_type": "stream",
     "text": [
      "100%|██████████| 62/62 [07:38<00:00,  7.40s/it]\n"
     ]
    },
    {
     "data": {
      "image/png": "[encoded data removed]",
      "text/plain": [
       "<PIL.Image.Image image mode=RGB size=50x50>"
      ]
     },
     "metadata": {},
     "output_type": "display_data"
    },
    {
     "name": "stdout",
     "output_type": "stream",
     "text": [
      "11\n"
     ]
    },
    {
     "name": "stderr",
     "output_type": "stream",
     "text": [
      "100%|██████████| 62/62 [07:14<00:00,  7.01s/it]\n"
     ]
    },
    {
     "data": {
      "image/png": "[encoded data removed]",
      "text/plain": [
       "<PIL.Image.Image image mode=RGB size=50x50>"
      ]
     },
     "metadata": {},
     "output_type": "display_data"
    },
    {
     "name": "stdout",
     "output_type": "stream",
     "text": [
      "12\n"
     ]
    },
    {
     "name": "stderr",
     "output_type": "stream",
     "text": [
      "100%|██████████| 62/62 [07:16<00:00,  7.04s/it]\n"
     ]
    },
    {
     "data": {
      "image/png": "[encoded data removed]",
      "text/plain": [
       "<PIL.Image.Image image mode=RGB size=50x50>"
      ]
     },
     "metadata": {},
     "output_type": "display_data"
    },
    {
     "name": "stdout",
     "output_type": "stream",
     "text": [
      "13\n"
     ]
    },
    {
     "name": "stderr",
     "output_type": "stream",
     "text": [
      "100%|██████████| 62/62 [07:23<00:00,  7.15s/it]\n"
     ]
    },
    {
     "data": {
      "image/png": "[encoded data removed]",
      "text/plain": [
       "<PIL.Image.Image image mode=RGB size=50x50>"
      ]
     },
     "metadata": {},
     "output_type": "display_data"
    },
    {
     "name": "stdout",
     "output_type": "stream",
     "text": [
      "14\n"
     ]
    },
    {
     "name": "stderr",
     "output_type": "stream",
     "text": [
      "100%|██████████| 62/62 [05:34<00:00,  5.40s/it]\n"
     ]
    },
    {
     "data": {
      "image/png": "[encoded data removed]",
      "text/plain": [
       "<PIL.Image.Image image mode=RGB size=50x50>"
      ]
     },
     "metadata": {},
     "output_type": "display_data"
    },
    {
     "name": "stdout",
     "output_type": "stream",
     "text": [
      "15\n"
     ]
    }
   ],
   "source": [
    "numd = 34\n",
    "\n",
    "for i in range(numd,numd+1):\n",
    "    data = loadmat(paths[i])\n",
    "\n",
    "    k,j = names[i].split('.')\n",
    "    print(k)\n",
    "    work(data,k)"
   ]
  },
  {
   "cell_type": "code",
   "execution_count": 26,
   "id": "b79f9b18",
   "metadata": {
    "execution": {
     "iopub.execute_input": "2023-11-02T10:10:04.650875Z",
     "iopub.status.busy": "2023-11-02T10:10:04.650207Z",
     "iopub.status.idle": "2023-11-02T10:10:04.656483Z",
     "shell.execute_reply": "2023-11-02T10:10:04.654725Z"
    },
    "papermill": {
     "duration": 0.131791,
     "end_time": "2023-11-02T10:10:04.659619",
     "exception": false,
     "start_time": "2023-11-02T10:10:04.527828",
     "status": "completed"
    },
    "tags": []
   },
   "outputs": [],
   "source": [
    "# for i in range(3,4):\n",
    "#     data = loadmat(paths[i])\n",
    "#     k,j = names[i].split('.')\n",
    "#     print(k)\n",
    "#     work(data,k)"
   ]
  },
  {
   "cell_type": "code",
   "execution_count": 27,
   "id": "7d8db490",
   "metadata": {
    "execution": {
     "iopub.execute_input": "2023-11-02T10:10:04.926417Z",
     "iopub.status.busy": "2023-11-02T10:10:04.925359Z",
     "iopub.status.idle": "2023-11-02T10:10:04.937017Z",
     "shell.execute_reply": "2023-11-02T10:10:04.935798Z"
    },
    "jupyter": {
     "source_hidden": true
    },
    "papermill": {
     "duration": 0.146015,
     "end_time": "2023-11-02T10:10:04.941270",
     "exception": false,
     "start_time": "2023-11-02T10:10:04.795255",
     "status": "completed"
    },
    "tags": []
   },
   "outputs": [],
   "source": [
    "\n",
    "\n",
    "# df['rgb'] = normalized_data\n",
    "# selected_columns = ['x', 'y', 'rgb']\n",
    "\n",
    "# # Use the values attribute to convert the selected columns into a NumPy array\n",
    "# coord = df[selected_columns].values\n",
    "\n",
    "# # print(coord)\n",
    "\n",
    "\n",
    "\n",
    "# data3  = coord\n",
    "# mult = 30\n",
    "# pad = 10\n",
    "\n",
    "# column_values1 = [x[0] for x in data3]\n",
    "# column_values2 = [x[1] for x in data3]\n",
    "\n",
    "# min_value1 = min(column_values1)\n",
    "# max_value1 = max(column_values1)\n",
    "# value_range1 = max_value1 - min_value1\n",
    "\n",
    "# min_value2 = min(column_values2)\n",
    "# max_value2 = max(column_values2)\n",
    "# value_range2 = max_value2 - min_value2\n",
    "\n",
    "\n",
    "# # Normalize the values in the column and scale to [0, 255]\n",
    "# normalized_data2 = [[(int((x[0] - min_value1) / value_range1 * mult))+pad, (int((x[1] - min_value2) / value_range2 * mult))+pad, x[2]] for x in data3]\n",
    "\n",
    "# # Print the normalized data\n",
    "# # print(normalized_data2)\n",
    "# # print(len(normalized_data2))\n",
    "# from PIL import Image, ImageDraw\n",
    "\n",
    "# # Define the image size and create a blank image\n",
    "# width = mult + pad +pad # Adjust this to your desired image width\n",
    "# height =mult + pad +pad # Adjust this to your desired image height\n",
    "# image = Image.new('RGB', (width, height), (0, 0, 0))  # Initialize with a black background\n",
    "\n",
    "# # Define your (x, y) coordinates and corresponding RGB values\n",
    "# coordinates = normalized_data2\n",
    "\n",
    "# # Create a drawing context on the image\n",
    "# draw = ImageDraw.Draw(image)\n",
    "\n",
    "# # Draw colored pixels at the specified (x, y) coordinates\n",
    "# for (x, y, color) in coordinates:\n",
    "#     draw.point((x, y), fill=color)\n",
    "\n",
    "# # Save the image to a file\n",
    "# # image.save('output_image.png')\n",
    "# # print(image)\n",
    "\n",
    "\n",
    "\n",
    "\n",
    "# image_data = np.array(image)\n",
    "# from IPython.display import display\n",
    "# display(image)\n",
    "\n",
    "\n",
    "\n",
    "\n",
    "# image_data = np.array(image)\n",
    "# count = 0 \n",
    "# for x in range(width):\n",
    "#     for y in range(height):\n",
    "#         if all(image_data[y, x] != [0, 0, 0]): \n",
    "#             count += 1\n",
    "# print(count)\n",
    "\n",
    "# # for ll in tqdm(range(1,6)):\n",
    "# for i in tqdm(range(0,2)):\n",
    "#     for x in range(width):\n",
    "#         for y in range(height):\n",
    "#             if all(image_data[y, x] == [0, 0, 0]):  # Check if this pixel is black (unfilled)\n",
    "#                 # Find the nearest filled pixels\n",
    "#                 nearest_points = []\n",
    "#                 for dx in [-1, 0, 1]:\n",
    "#                     for dy in [-1, 0, 1]:\n",
    "#                         if 0 <= x + dx < width and 0 <= y + dy < height:\n",
    "#                             if all(image_data[y + dy, x + dx] != [0, 0, 0]):\n",
    "#                                 nearest_points.append((x + dx, y + dy))\n",
    "\n",
    "#                 if nearest_points:\n",
    "#                     # Calculate the average color of the nearest filled pixels\n",
    "#                     average_color = np.mean([image_data[y, x] for x, y in nearest_points], axis=0).astype(int)\n",
    "#                     draw.point((x, y), fill=tuple(average_color))\n",
    "#     image_data = np.array(image)\n",
    "#     count = 0 \n",
    "#     for x in range(width):\n",
    "#         for y in range(height):\n",
    "#             if all(image_data[y, x] != [0, 0, 0]): \n",
    "#                 count += 1\n",
    "# #         print(count)\n",
    "\n",
    "# # Save or display the interpolated image\n",
    "# # image.save('interpolated_image.png')\n",
    "# display(image)\n",
    "# name = 'interpolated_image_'+ str(i)+'.png'\n",
    "# image.save(name)"
   ]
  },
  {
   "cell_type": "code",
   "execution_count": 28,
   "id": "235ef474",
   "metadata": {
    "execution": {
     "iopub.execute_input": "2023-11-02T10:10:05.183013Z",
     "iopub.status.busy": "2023-11-02T10:10:05.181819Z",
     "iopub.status.idle": "2023-11-02T10:10:05.186901Z",
     "shell.execute_reply": "2023-11-02T10:10:05.185835Z"
    },
    "papermill": {
     "duration": 0.131168,
     "end_time": "2023-11-02T10:10:05.190236",
     "exception": false,
     "start_time": "2023-11-02T10:10:05.059068",
     "status": "completed"
    },
    "tags": []
   },
   "outputs": [],
   "source": [
    "# import shutil\n",
    "# from zipfile import ZipFile\n"
   ]
  },
  {
   "cell_type": "code",
   "execution_count": 29,
   "id": "3ff439f4",
   "metadata": {
    "execution": {
     "iopub.execute_input": "2023-11-02T10:10:05.431514Z",
     "iopub.status.busy": "2023-11-02T10:10:05.431116Z",
     "iopub.status.idle": "2023-11-02T10:10:05.436533Z",
     "shell.execute_reply": "2023-11-02T10:10:05.435304Z"
    },
    "papermill": {
     "duration": 0.122775,
     "end_time": "2023-11-02T10:10:05.438988",
     "exception": false,
     "start_time": "2023-11-02T10:10:05.316213",
     "status": "completed"
    },
    "tags": []
   },
   "outputs": [],
   "source": [
    "# # Define the directory to be zipped\n",
    "# source_dir = '/kaggle/working/'\n",
    "\n",
    "# # Define the zip file name\n",
    "# zip_filename = '/kaggle/working/archive.zip'\n",
    "\n",
    "# # Create a ZipFile object in write mode\n",
    "# with ZipFile(zip_filename, 'w') as zipf:\n",
    "#     # Walk through the source directory and add its contents to the zip file\n",
    "#     for foldername, subfolders, filenames in os.walk(source_dir):\n",
    "#         for filename in filenames:\n",
    "#             file_path = os.path.join(foldername, filename)\n",
    "#             zipf.write(file_path, os.path.relpath(file_path, source_dir))\n"
   ]
  },
  {
   "cell_type": "code",
   "execution_count": null,
   "id": "6bd3466e",
   "metadata": {
    "papermill": {
     "duration": 0.113002,
     "end_time": "2023-11-02T10:10:05.664248",
     "exception": false,
     "start_time": "2023-11-02T10:10:05.551246",
     "status": "completed"
    },
    "tags": []
   },
   "outputs": [],
   "source": []
  }
 ],
 "metadata": {
  "kernelspec": {
   "display_name": "Python 3",
   "language": "python",
   "name": "python3"
  },
  "language_info": {
   "codemirror_mode": {
    "name": "ipython",
    "version": 3
   },
   "file_extension": ".py",
   "mimetype": "text/x-python",
   "name": "python",
   "nbconvert_exporter": "python",
   "pygments_lexer": "ipython3",
   "version": "3.10.12"
  },
  "papermill": {
   "default_parameters": {},
   "duration": 6347.387053,
   "end_time": "2023-11-02T10:10:07.022134",
   "environment_variables": {},
   "exception": null,
   "input_path": "__notebook__.ipynb",
   "output_path": "__notebook__.ipynb",
   "parameters": {},
   "start_time": "2023-11-02T08:24:19.635081",
   "version": "2.4.0"
  }
 },
 "nbformat": 4,
 "nbformat_minor": 5
}
